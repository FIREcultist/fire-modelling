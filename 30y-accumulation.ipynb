{
 "cells": [
  {
   "cell_type": "markdown",
   "metadata": {},
   "source": [
    "# Modelling Portfolio accumulation\n",
    "\n",
    "* Modelling a passive investor who purchases `n_block_val` worth of shares every `block_period` (unit of time). \n",
    "  * `n_block_val` is inflation adjusted at a constant rate of 2.2% p.a.\n",
    "  * `block_period = 4 weeks`, for simplicity.\n",
    "* Output 1: arithmetic return after `hold_duration`. That is simply portfolio_value(T)/total_cost_of_purchases.\n",
    "\n",
    "### Notes\n",
    "\n",
    "* Any kind of unit returns p.a. (arithmetic, CAGR) are not a very meaningful measure, because you're gradually buying more of the same asset, not, say, buying the entire asset all at once and repaying with debt. Strictly speaking, the normalized way of assessing ETF return to other asset classes would then be NPV. \n",
    "* As such, we simply use asset value at the end of the period. "
   ]
  },
  {
   "cell_type": "code",
   "execution_count": 1,
   "metadata": {},
   "outputs": [],
   "source": [
    "%matplotlib inline\n",
    "import matplotlib.pyplot as plt\n",
    "\n",
    "import numpy as np\n",
    "import pandas as pd\n",
    "import math\n",
    "\n",
    "from datetime import datetime, timedelta, date\n",
    "import tqdm as tqdm\n",
    "\n",
    "\n",
    "def get_cagr(s0, sT, hold_duration):\n",
    "    \"\"\"Calculate CAGR\"\"\"\n",
    "    return ((sT/s0)**(1/hold_duration)) - 1\n",
    "\n",
    "\n",
    "def get_nearest_date_row(df, target_date):\n",
    "    \"\"\"Get the row in df closest to the input target_date.\n",
    "    Note that the approximation can only occur *later* than the target_date, \n",
    "    but not before.\n",
    "    \n",
    "    PARAMS\n",
    "    ------\n",
    "    df: input dataframe\n",
    "    target_date: datetime.datetime object.\n",
    "    \n",
    "    RETURNS\n",
    "    -------\n",
    "    row_dict: dictionary of row values.\n",
    "    \"\"\"        \n",
    "    date_window_ls = [target_date]\n",
    "    window_size = 21\n",
    "    for i in np.arange(1, window_size):\n",
    "        date_window_ls.append(target_date+timedelta(days=int(i)))\n",
    "    # Get all values within the target date window, but keep only the first (earliest) row\n",
    "    row_T = df.loc[df[\"date_obj\"].isin(date_window_ls)].iloc[0]\n",
    "    row_dict = {}\n",
    "    for idx, val in row_T.iteritems():\n",
    "        row_dict[idx] = val\n",
    "        \n",
    "    return row_dict\n"
   ]
  },
  {
   "cell_type": "code",
   "execution_count": 2,
   "metadata": {},
   "outputs": [],
   "source": [
    "d0 = pd.read_csv(\"data/^GSPC_daily.csv\")\n",
    "d0[\"date_obj\"] = d0.apply(lambda row: datetime.fromisoformat(str(row[\"Date\"])), axis=1)\n",
    "# set earliest date, if you want\n",
    "d0 = d0.loc[d0[\"date_obj\"]>datetime.fromisoformat(\"1950-01-01\")]\n",
    "\n",
    "# ========== params ==========\n",
    "total_duration = 365*10 # total holding duration, in days\n",
    "purchase_budget = 5000 # max value of each purchase\n",
    "purchase_budget_r = 0.02 # How much to increase purchase_block_val by per year. UNUSED. \n",
    "inflation_r = 0.02 # Inflation rate, assumed to be a constant term. UNUSED.\n",
    "purchase_period = 120 # how long between purchases, in days\n",
    "v0 = 0 # starting value\n",
    "# ========== calc'd params ==========\n",
    "final_date = datetime.fromisoformat(d0.iloc[-1].Date)"
   ]
  },
  {
   "cell_type": "markdown",
   "metadata": {},
   "source": [
    "### Start Full Run\n",
    "\n",
    "Compute the final 10-y portfolio values of every possible entry point from 1950-01-01, to 2009-01-01. "
   ]
  },
  {
   "cell_type": "code",
   "execution_count": null,
   "metadata": {},
   "outputs": [
    {
     "name": "stderr",
     "output_type": "stream",
     "text": [
      " 75%|███████▌  | 10745/14245 [15:08<07:30,  7.78it/s]"
     ]
    }
   ],
   "source": [
    "datex = datetime.fromisoformat(\"1970-01-01\")\n",
    "t0_vec = [datex]\n",
    "date_diff = datetime.fromisoformat(\"2009-01-01\") - datex\n",
    "for i in np.arange(1, date_diff.days):\n",
    "    t0_vec.append(datex+timedelta(days=int(i)))\n",
    "\n",
    "meta_contents = []\n",
    "for t0 in tqdm.tqdm(t0_vec):\n",
    "    purchase_vec = []\n",
    "\n",
    "    t_x = t0\n",
    "    contents = []\n",
    "    while t_x < t0 + timedelta(days=total_duration):\n",
    "        t_x += timedelta(days=purchase_period)\n",
    "        row_dict = get_nearest_date_row(d0, t_x)\n",
    "        new_row = [row_dict[k] for k in list(row_dict.keys())]\n",
    "        contents.append(new_row)\n",
    "    colnames = list(row_dict.keys())\n",
    "    dt = pd.DataFrame(data=contents, columns=colnames)\n",
    "\n",
    "    dt[\"n_units_purchased\"] = dt.apply(lambda row: math.floor(purchase_budget/float(row[\"Adj Close\"])), axis=1)\n",
    "    dt[\"total_purchase_val\"] = dt.apply(lambda row: float(row[\"n_units_purchased\"])*float(row[\"Adj Close\"]), axis=1)\n",
    "    \n",
    "    total_units = np.sum(dt[\"n_units_purchased\"])\n",
    "    total_cost = np.sum(dt[\"total_purchase_val\"])\n",
    "    total_final_val = dt.iloc[-1][\"Adj Close\"] * total_units\n",
    "    multiple = total_final_val/total_cost\n",
    "\n",
    "    meta_contents.append([total_units, total_cost, total_final_val, multiple])\n",
    "    \n",
    "# put results in a dataframe\n",
    "dz = pd.DataFrame(data=meta_contents, columsn=[\"total_units\", \"total_cost\", \"total_final_val\", \"multiple\"])"
   ]
  },
  {
   "cell_type": "code",
   "execution_count": null,
   "metadata": {},
   "outputs": [],
   "source": [
    "plt.hist(list(dz[\"multiple\"]), bins=80)\n",
    "plt.show()"
   ]
  },
  {
   "cell_type": "code",
   "execution_count": null,
   "metadata": {},
   "outputs": [],
   "source": [
    "len(dz.loc[dz[\"multiple\"]<(1.025**10)])/len(dz)"
   ]
  },
  {
   "cell_type": "code",
   "execution_count": null,
   "metadata": {},
   "outputs": [],
   "source": [
    "dz"
   ]
  },
  {
   "cell_type": "code",
   "execution_count": null,
   "metadata": {},
   "outputs": [],
   "source": []
  }
 ],
 "metadata": {
  "kernelspec": {
   "display_name": "Python 3",
   "language": "python",
   "name": "python3"
  },
  "language_info": {
   "codemirror_mode": {
    "name": "ipython",
    "version": 3
   },
   "file_extension": ".py",
   "mimetype": "text/x-python",
   "name": "python",
   "nbconvert_exporter": "python",
   "pygments_lexer": "ipython3",
   "version": "3.7.1"
  }
 },
 "nbformat": 4,
 "nbformat_minor": 2
}
