{
 "cells": [
  {
   "cell_type": "markdown",
   "metadata": {},
   "source": [
    "# Modelling SWR\n",
    "\n",
    "* Before taxes, or franking credits and dividends."
   ]
  },
  {
   "cell_type": "code",
   "execution_count": 3,
   "metadata": {},
   "outputs": [],
   "source": [
    "%matplotlib inline\n",
    "import matplotlib.pyplot as plt\n",
    "\n",
    "import numpy as np\n",
    "import pandas as pd\n",
    "\n",
    "from datetime import datetime, timedelta, date\n",
    "import tqdm as tqdm\n",
    "\n",
    "\n",
    "def get_nearest_date_row(df, target_date):\n",
    "    \"\"\"Get the row in df closest to the input target_date.\n",
    "    Note that the approximation can only occur *later* than the target_date, \n",
    "    but not before.\n",
    "    \n",
    "    PARAMS\n",
    "    ------\n",
    "    df: input dataframe\n",
    "    target_date: datetime.datetime object.\n",
    "    \n",
    "    RETURNS\n",
    "    -------\n",
    "    row_dict: dictionary of row values.\n",
    "    \"\"\"        \n",
    "    date_window_ls = [target_date]\n",
    "    window_size = 21\n",
    "    for i in np.arange(1, window_size):\n",
    "        date_window_ls.append(target_date+timedelta(days=int(i)))\n",
    "    # Get all values within the target date window, but keep only the first (earliest) row\n",
    "    row_T = df.loc[df[\"date_obj\"].isin(date_window_ls)].iloc[0]\n",
    "    row_dict = {}\n",
    "    for idx, val in row_T.iteritems():\n",
    "        row_dict[idx] = val\n",
    "        \n",
    "    return row_dict"
   ]
  },
  {
   "cell_type": "code",
   "execution_count": 2,
   "metadata": {},
   "outputs": [],
   "source": [
    "# PARAMS\n",
    "v0 = 1000000 # initial pf value\n",
    "annual_expenses = 30000 # annual withdrawal amount\n",
    "inflation_r = 0.022 # annual inflation rate\n",
    "\n",
    "# Load data\n",
    "d0 = pd.read_csv(\"data/^GSPC_daily.csv\")\n",
    "d0[\"date_obj\"] = d0.apply(lambda row: datetime.fromisoformat(str(row[\"Date\"])), axis=1)\n",
    "# set earliest date, if you want\n",
    "d0 = d0.loc[d0[\"date_obj\"]>datetime.fromisoformat(\"1980-01-04\")]\n"
   ]
  },
  {
   "cell_type": "code",
   "execution_count": null,
   "metadata": {},
   "outputs": [],
   "source": []
  }
 ],
 "metadata": {
  "kernelspec": {
   "display_name": "Python 3",
   "language": "python",
   "name": "python3"
  },
  "language_info": {
   "codemirror_mode": {
    "name": "ipython",
    "version": 3
   },
   "file_extension": ".py",
   "mimetype": "text/x-python",
   "name": "python",
   "nbconvert_exporter": "python",
   "pygments_lexer": "ipython3",
   "version": "3.7.1"
  }
 },
 "nbformat": 4,
 "nbformat_minor": 2
}
